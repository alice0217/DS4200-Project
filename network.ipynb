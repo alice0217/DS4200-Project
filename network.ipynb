{
 "cells": [
  {
   "cell_type": "code",
   "execution_count": 1,
   "metadata": {},
   "outputs": [],
   "source": [
    "import networkx as nx\n",
    "import matplotlib.pyplot as plt\n",
    "import pandas as pd\n",
    "import numpy as np\n",
    "import random\n",
    "import graphviz"
   ]
  },
  {
   "cell_type": "code",
   "execution_count": 2,
   "metadata": {},
   "outputs": [],
   "source": [
    "titles = pd.read_csv('titles.csv')"
   ]
  },
  {
   "cell_type": "code",
   "execution_count": 17,
   "metadata": {},
   "outputs": [],
   "source": [
    "df = pd.DataFrame(columns=['source', 'target', 'weight'])\n",
    "\n",
    "for i in range(len(titles)):\n",
    "    countries = titles['production_countries'][i].strip('[]').split(', ')\n",
    "    for j in range(len(countries)):\n",
    "        for k in range(j+1, len(countries)):\n",
    "            if df[(df['source'] == countries[j]) & (df['target'] == countries[k])].empty:\n",
    "                df = pd.concat([df, pd.DataFrame({'source': countries[j], 'target': countries[k], 'weight': [1]})], ignore_index=True)\n",
    "            else:\n",
    "                df.loc[(df['source'] == countries[j]) & (df['target'] == countries[k]), 'weight'] += 1"
   ]
  },
  {
   "cell_type": "code",
   "execution_count": 18,
   "metadata": {},
   "outputs": [],
   "source": [
    "df.to_csv('edges.csv', index=False)"
   ]
  },
  {
   "cell_type": "code",
   "execution_count": 23,
   "metadata": {},
   "outputs": [],
   "source": [
    "from pyvis.network import Network\n",
    "\n",
    "net = Network(height='750px', width='100%', bgcolor='#222222', font_color='white')\n",
    "net.barnes_hut()\n",
    "\n",
    "sources = df['source']\n",
    "targets = df['target']\n",
    "weights = df['weight']\n",
    "\n",
    "edge_data = zip(sources, targets, weights)\n",
    "\n",
    "for e in edge_data:\n",
    "    src = e[0]\n",
    "    dst = e[1]\n",
    "    w = e[2]\n",
    "\n",
    "    net.add_node(src, src, title=src)\n",
    "    net.add_node(dst, dst, title=dst)\n",
    "    net.add_edge(src, dst, value=w)\n",
    "    \n",
    "neighbor_map = net.get_adj_list()\n",
    "\n",
    "for node in net.nodes:\n",
    "    node['value'] = len(neighbor_map[node['id']])\n",
    "\n",
    "net.write_html('country_network.html')"
   ]
  }
 ],
 "metadata": {
  "kernelspec": {
   "display_name": "Python 3",
   "language": "python",
   "name": "python3"
  },
  "language_info": {
   "codemirror_mode": {
    "name": "ipython",
    "version": 3
   },
   "file_extension": ".py",
   "mimetype": "text/x-python",
   "name": "python",
   "nbconvert_exporter": "python",
   "pygments_lexer": "ipython3",
   "version": "3.10.11"
  }
 },
 "nbformat": 4,
 "nbformat_minor": 2
}
